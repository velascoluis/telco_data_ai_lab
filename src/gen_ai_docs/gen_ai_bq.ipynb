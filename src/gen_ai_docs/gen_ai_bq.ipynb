{
 "cells": [
  {
   "cell_type": "markdown",
   "metadata": {},
   "source": [
    "# Embedding semantic search for issue resolution"
   ]
  },
  {
   "cell_type": "code",
   "execution_count": null,
   "metadata": {},
   "outputs": [],
   "source": [
    "import sys\n",
    "import os"
   ]
  },
  {
   "cell_type": "code",
   "execution_count": null,
   "metadata": {},
   "outputs": [],
   "source": [
    "sys.path.append(os.path.dirname(os.getcwd()))\n",
    "from utils import run_query, load_constants"
   ]
  },
  {
   "cell_type": "code",
   "execution_count": null,
   "metadata": {},
   "outputs": [],
   "source": [
    "constants = load_constants()\n",
    "\n",
    "GOOGLE_CLOUD_PROJECT = constants[\"GCP\"][\"GOOGLE_CLOUD_PROJECT\"]\n",
    "GOOGLE_CLOUD_LOCATION = constants[\"GCP\"][\"GOOGLE_CLOUD_LOCATION\"]\n",
    "GOOGLE_CLOUD_LOCATION_MULTI_REGION = constants[\"GCP\"][\"GOOGLE_CLOUD_LOCATION_MULTI_REGION\"]\n",
    "GOOGLE_CLOUD_GCS_BUCKET = constants[\"GCP\"][\"GOOGLE_CLOUD_GCS_BUCKET\"]\n",
    "GOOGLE_CLOUD_GCS_BUCKET_MULTI_REGION = constants[\"GCP\"][\n",
    "    \"GOOGLE_CLOUD_GCS_BUCKET_MULTI_REGION\"\n",
    "]\n",
    "GOOGLE_GEMINI_MODEL_15 = constants[\"VERTEX\"][\"GOOGLE_GEMINI_MODEL_15\"]\n",
    "GOOGLE_GEMINI_MODEL_10 = constants[\"VERTEX\"][\"GOOGLE_GEMINI_MODEL_10\"]\n",
    "\n",
    "GOOGLE_CLOUD_BIGQUERY_PROJECT = constants[\"BIGQUERY\"][\"GOOGLE_CLOUD_BIGQUERY_PROJECT\"]\n",
    "GOOGLE_CLOUD_BIGQUERY_DATASET = constants[\"BIGQUERY\"][\"GOOGLE_CLOUD_BIGQUERY_DATASET\"]\n",
    "GOOGLE_CLOUD_BIGQUERY_DATASET_MULTI_REGION = constants[\"BIGQUERY\"][\n",
    "    \"GOOGLE_CLOUD_BIGQUERY_DATASET_MULTI_REGION\"\n",
    "]\n",
    "\n",
    "\n",
    "BASE_TABLE_NAME_EVENTS = constants[\"BIGQUERY\"][\"BASE_TABLE_NAME_EVENTS\"]\n",
    "BASE_TABLE_NAME_INCIDENTS = constants[\"BIGQUERY\"][\"BASE_TABLE_NAME_INCIDENTS\"]\n",
    "\n",
    "DOC_AI_PROCESSOR_URI = constants[\"DOC_AI\"][\"DOC_AI_PROCESSOR_URI\"]"
   ]
  },
  {
   "cell_type": "code",
   "execution_count": null,
   "metadata": {},
   "outputs": [],
   "source": [
    "query_cext = f\"\"\"CREATE OR REPLACE EXTERNAL TABLE `{GOOGLE_CLOUD_BIGQUERY_PROJECT}.{GOOGLE_CLOUD_BIGQUERY_DATASET_MULTI_REGION}.{BASE_TABLE_NAME_INCIDENTS}_docs`\n",
    "  WITH CONNECTION `{GOOGLE_CLOUD_BIGQUERY_PROJECT}.{GOOGLE_CLOUD_LOCATION_MULTI_REGION}.genai`\n",
    "  OPTIONS (\n",
    "    object_metadata = 'SIMPLE',\n",
    "    uris = ['gs://{GOOGLE_CLOUD_GCS_BUCKET_MULTI_REGION}/rca/*'],\n",
    "    metadata_cache_mode= 'AUTOMATIC',\n",
    "    max_staleness= INTERVAL 1 HOUR\n",
    "  );\"\"\""
   ]
  },
  {
   "cell_type": "code",
   "execution_count": null,
   "metadata": {},
   "outputs": [],
   "source": [
    "query_cmodel = f\"\"\"\n",
    "  CREATE OR REPLACE MODEL `{GOOGLE_CLOUD_BIGQUERY_DATASET_MULTI_REGION}.rca_processor`\n",
    "  REMOTE WITH CONNECTION `{GOOGLE_CLOUD_BIGQUERY_PROJECT}.{GOOGLE_CLOUD_LOCATION_MULTI_REGION}.genai`\n",
    "  OPTIONS (\n",
    "    remote_service_type = 'CLOUD_AI_DOCUMENT_V1',   \n",
    "    document_processor='f{DOC_AI_PROCESSOR_URI}'\n",
    "  );\"\"\""
   ]
  },
  {
   "cell_type": "code",
   "execution_count": null,
   "metadata": {},
   "outputs": [],
   "source": [
    "run_query(query_cext)"
   ]
  },
  {
   "cell_type": "code",
   "execution_count": null,
   "metadata": {},
   "outputs": [],
   "source": [
    "run_query(query_cmodel)"
   ]
  },
  {
   "cell_type": "code",
   "execution_count": null,
   "metadata": {},
   "outputs": [],
   "source": [
    "query_parse = f\"\"\"\n",
    "  CREATE OR REPLACE TABLE `{GOOGLE_CLOUD_BIGQUERY_PROJECT}.{GOOGLE_CLOUD_BIGQUERY_DATASET_MULTI_REGION}.{BASE_TABLE_NAME_INCIDENTS}_docs_parsed` AS\n",
    "  SELECT *\n",
    "  FROM ML.PROCESS_DOCUMENT(\n",
    "    MODEL `{GOOGLE_CLOUD_BIGQUERY_DATASET_MULTI_REGION}.rca_processor`,\n",
    "    TABLE `{GOOGLE_CLOUD_BIGQUERY_PROJECT}.{GOOGLE_CLOUD_BIGQUERY_DATASET_MULTI_REGION}.{BASE_TABLE_NAME_INCIDENTS}_docs`)\n",
    "  WHERE content_type = 'application/pdf';\"\"\""
   ]
  },
  {
   "cell_type": "code",
   "execution_count": null,
   "metadata": {},
   "outputs": [],
   "source": [
    "run_query(query_parse)"
   ]
  },
  {
   "cell_type": "code",
   "execution_count": null,
   "metadata": {},
   "outputs": [],
   "source": [
    "query_emodel = f\"\"\"\n",
    "CREATE OR REPLACE MODEL `{GOOGLE_CLOUD_BIGQUERY_DATASET_MULTI_REGION}.gecko_embedder`\n",
    "  REMOTE WITH CONNECTION `{GOOGLE_CLOUD_BIGQUERY_PROJECT}.{GOOGLE_CLOUD_LOCATION_MULTI_REGION}.genai`\n",
    "  OPTIONS (ENDPOINT = \"textembedding-gecko-multilingual\");\"\"\""
   ]
  },
  {
   "cell_type": "code",
   "execution_count": null,
   "metadata": {},
   "outputs": [],
   "source": [
    "run_query(query_emodel)"
   ]
  },
  {
   "cell_type": "code",
   "execution_count": null,
   "metadata": {},
   "outputs": [],
   "source": [
    "query_genembs = f\"\"\"\n",
    "CREATE OR REPLACE TABLE `{GOOGLE_CLOUD_BIGQUERY_PROJECT}.{GOOGLE_CLOUD_BIGQUERY_DATASET_MULTI_REGION}.{BASE_TABLE_NAME_INCIDENTS}_docs_embedded` AS\n",
    "SELECT * FROM ML.GENERATE_EMBEDDING(\n",
    "  MODEL `{GOOGLE_CLOUD_BIGQUERY_DATASET_MULTI_REGION}.gecko_embedder`,\n",
    "  (\n",
    "    SELECT  JSON_VALUE(ml_process_document_result, '$.text') AS content, uri as title\n",
    "    FROM `{GOOGLE_CLOUD_BIGQUERY_PROJECT}.{GOOGLE_CLOUD_BIGQUERY_DATASET_MULTI_REGION}.{BASE_TABLE_NAME_INCIDENTS}_docs_parsed`\n",
    "  )\n",
    ")\n",
    "WHERE LENGTH(ml_generate_embedding_status) = 0;\"\"\""
   ]
  },
  {
   "cell_type": "code",
   "execution_count": null,
   "metadata": {},
   "outputs": [],
   "source": [
    "run_query(query_genembs)"
   ]
  },
  {
   "cell_type": "code",
   "execution_count": null,
   "metadata": {},
   "outputs": [],
   "source": [
    "query_emodel = f\"\"\"\n",
    "CREATE OR REPLACE MODEL `{GOOGLE_CLOUD_BIGQUERY_DATASET_MULTI_REGION}.gemini_model`\n",
    "  REMOTE WITH CONNECTION `{GOOGLE_CLOUD_BIGQUERY_PROJECT}.{GOOGLE_CLOUD_LOCATION_MULTI_REGION}.genai`\n",
    "  OPTIONS (ENDPOINT = 'f{GOOGLE_GEMINI_MODEL_10}');\"\"\""
   ]
  },
  {
   "cell_type": "code",
   "execution_count": null,
   "metadata": {},
   "outputs": [],
   "source": [
    "run_query(query_emodel)"
   ]
  },
  {
   "cell_type": "code",
   "execution_count": null,
   "metadata": {},
   "outputs": [],
   "source": [
    "user_query = 'Im having a high CPU utilization incident together with  Network Congestion Alert and High Active Connection Count Alert'\n",
    "query_search = f\"\"\"\n",
    "SELECT *\n",
    "FROM VECTOR_SEARCH(\n",
    "  TABLE `{GOOGLE_CLOUD_BIGQUERY_PROJECT}.{GOOGLE_CLOUD_BIGQUERY_DATASET_MULTI_REGION}.{BASE_TABLE_NAME_INCIDENTS}_docs_embedded`, 'ml_generate_embedding_result',\n",
    "  (\n",
    "  SELECT ml_generate_embedding_result, content AS query\n",
    "  FROM ML.GENERATE_EMBEDDING(\n",
    "   MODEL `{GOOGLE_CLOUD_BIGQUERY_DATASET_MULTI_REGION}.gecko_embedder`,\n",
    "  (SELECT '{user_query}' AS content))\n",
    "  ),\n",
    "  top_k => 5);\"\"\""
   ]
  },
  {
   "cell_type": "code",
   "execution_count": null,
   "metadata": {},
   "outputs": [],
   "source": [
    "user_query = \"Im having a high CPU utilization incident together with  Network Congestion Alert and High Active Connection Count Alert\"\n",
    "query_rag = f\"\"\"SELECT ml_generate_text_result.candidates[0].content.parts[0].text\n",
    "FROM ML.GENERATE_TEXT(\n",
    "  MODEL `{GOOGLE_CLOUD_BIGQUERY_DATASET_MULTI_REGION}.gemini_model`,\n",
    "  (\n",
    "    SELECT CONCAT(\n",
    "      'Detail how to solve the issue using the following articles, produce a step by step guide ',\n",
    "      STRING_AGG(base.content)\n",
    "      ) AS prompt,\n",
    "    FROM VECTOR_SEARCH(\n",
    "  TABLE `{GOOGLE_CLOUD_BIGQUERY_PROJECT}.{GOOGLE_CLOUD_BIGQUERY_DATASET_MULTI_REGION}.{BASE_TABLE_NAME_INCIDENTS}_docs_embedded`, 'ml_generate_embedding_result',\n",
    "  (\n",
    "  SELECT ml_generate_embedding_result, content AS query\n",
    "  FROM ML.GENERATE_EMBEDDING(\n",
    "   MODEL `{GOOGLE_CLOUD_BIGQUERY_DATASET_MULTI_REGION}.gecko_embedder`,\n",
    "  (SELECT '{user_query}' AS content))\n",
    "  ),\n",
    "  top_k => 10)\n",
    "  ));\"\"\""
   ]
  },
  {
   "cell_type": "code",
   "execution_count": null,
   "metadata": {},
   "outputs": [],
   "source": [
    "print(query_rag)"
   ]
  },
  {
   "cell_type": "code",
   "execution_count": null,
   "metadata": {},
   "outputs": [],
   "source": [
    "print(run_query(query_rag)['text'].iloc[0])"
   ]
  }
 ],
 "metadata": {
  "kernelspec": {
   "display_name": "Python 3",
   "language": "python",
   "name": "python3"
  },
  "language_info": {
   "codemirror_mode": {
    "name": "ipython",
    "version": 3
   },
   "file_extension": ".py",
   "mimetype": "text/x-python",
   "name": "python",
   "nbconvert_exporter": "python",
   "pygments_lexer": "ipython3",
   "version": "3.10.14"
  }
 },
 "nbformat": 4,
 "nbformat_minor": 2
}
