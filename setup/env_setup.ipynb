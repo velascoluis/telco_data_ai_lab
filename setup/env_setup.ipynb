{
 "cells": [
  {
   "cell_type": "code",
   "execution_count": null,
   "metadata": {},
   "outputs": [],
   "source": [
    "! pip install --upgrade -r 'requirements.txt' --user"
   ]
  },
  {
   "cell_type": "code",
   "execution_count": null,
   "metadata": {},
   "outputs": [],
   "source": [
    "import os \n",
    "\n",
    "if not os.getenv(\"IS_TESTING\"):\n",
    "    import IPython\n",
    "\n",
    "    app = IPython.Application.instance()\n",
    "    app.kernel.do_shutdown(True)"
   ]
  },
  {
   "cell_type": "code",
   "execution_count": 1,
   "metadata": {},
   "outputs": [],
   "source": [
    "import os\n",
    "import sys\n",
    "\n",
    "from google.api_core.client_options import ClientOptions\n",
    "from google.cloud import documentai"
   ]
  },
  {
   "cell_type": "code",
   "execution_count": 2,
   "metadata": {},
   "outputs": [],
   "source": [
    "config_path = os.path.join(os.path.dirname(os.getcwd()), \"src\")"
   ]
  },
  {
   "cell_type": "code",
   "execution_count": 3,
   "metadata": {},
   "outputs": [],
   "source": [
    "GCP_PROJECTS = !gcloud config get-value project\n",
    "PROJECT_ID = !gcloud config get-value project\n",
    "PROJECT_NUMS = !gcloud projects list --filter=\"$PROJECT_ID\" --format=\"value(PROJECT_NUMBER)\"\n",
    "PROJECT_NUM = PROJECT_NUMS[0]\n",
    "GOOGLE_CLOUD_PROJECT = GCP_PROJECTS[0]\n",
    "GOOGLE_CLOUD_LOCATION = \"us-central1\"\n",
    "GOOGLE_CLOUD_LOCATION_MULTI_REGION = \"us\"\n",
    "GOOGLE_CLOUD_GCS_BUCKET = f\"{GOOGLE_CLOUD_PROJECT}-bucket\"\n",
    "GOOGLE_CLOUD_GCS_BUCKET_MULTI_REGION = f\"{GOOGLE_CLOUD_PROJECT}-bucket-multi-us\"\n",
    "GOOGLE_CLOUD_SERVICE_ACCOUNT = f\"{PROJECT_NUM}-compute@developer.gserviceaccount.com\"\n",
    "GOOGLE_GEMINI_MODEL_15 = \"gemini-1.5-pro\"\n",
    "GOOGLE_GEMINI_MODEL_10 = \"gemini-1.0-pro\"\n",
    "GOOGLE_CLOUD_BIGQUERY_PROJECT = GOOGLE_CLOUD_PROJECT\n",
    "GOOGLE_CLOUD_BIGQUERY_DATASET = \"rca_data\"\n",
    "GOOGLE_CLOUD_BIGQUERY_DATASET_MULTI_REGION = \"rca_data_us\"\n",
    "BASE_TABLE_NAME_EVENTS = \"telco_rca_events\"\n",
    "BASE_TABLE_NAME_INCIDENTS = \"telco_rca_incidents\""
   ]
  },
  {
   "cell_type": "code",
   "execution_count": null,
   "metadata": {},
   "outputs": [],
   "source": [
    "client = documentai.DocumentProcessorServiceClient(\n",
    "    client_options=ClientOptions(\n",
    "        api_endpoint=f\"{GOOGLE_CLOUD_LOCATION_MULTI_REGION}-documentai.googleapis.com\"\n",
    "    )\n",
    ")\n",
    "\n",
    "processor = client.create_processor(\n",
    "    parent=client.common_location_path(GOOGLE_CLOUD_PROJECT, GOOGLE_CLOUD_LOCATION_MULTI_REGION),\n",
    "    processor=documentai.Processor(display_name=\"rca_processor\", type_=\"OCR_PROCESSOR\"))\n",
    "\n",
    "\n",
    "DOC_AI_PROCESSOR_URI = processor.name"
   ]
  },
  {
   "cell_type": "code",
   "execution_count": 4,
   "metadata": {},
   "outputs": [],
   "source": [
    "config = f\"\"\"[GCP]\n",
    "GOOGLE_CLOUD_PROJECT = \\\"{GOOGLE_CLOUD_PROJECT}\\\"\n",
    "GOOGLE_CLOUD_LOCATION = \\\"{GOOGLE_CLOUD_LOCATION}\\\"\n",
    "GOOGLE_CLOUD_LOCATION_MULTI_REGION = \\\"{GOOGLE_CLOUD_LOCATION_MULTI_REGION}\\\"\n",
    "GOOGLE_CLOUD_GCS_BUCKET = \\\"{GOOGLE_CLOUD_GCS_BUCKET}\\\"\n",
    "GOOGLE_CLOUD_GCS_BUCKET_MULTI_REGION = \\\"{GOOGLE_CLOUD_GCS_BUCKET_MULTI_REGION}\\\"\n",
    "GOOGLE_CLOUD_SERVICE_ACCOUNT = \\\"{GOOGLE_CLOUD_SERVICE_ACCOUNT}\\\"\n",
    "[VERTEX]\n",
    "GOOGLE_GEMINI_MODEL_15 = \\\"{GOOGLE_GEMINI_MODEL_15}\\\"\n",
    "GOOGLE_GEMINI_MODEL_10 = \\\"{GOOGLE_GEMINI_MODEL_10}\\\"\n",
    "[BIGQUERY]\n",
    "GOOGLE_CLOUD_BIGQUERY_PROJECT = \\\"{GOOGLE_CLOUD_BIGQUERY_PROJECT}\\\"\n",
    "GOOGLE_CLOUD_BIGQUERY_DATASET = \\\"{GOOGLE_CLOUD_BIGQUERY_DATASET}\\\"\n",
    "GOOGLE_CLOUD_BIGQUERY_DATASET_MULTI_REGION = \\\"{GOOGLE_CLOUD_BIGQUERY_DATASET_MULTI_REGION}\\\"\n",
    "BASE_TABLE_NAME_EVENTS = \\\"{BASE_TABLE_NAME_EVENTS}\\\"\n",
    "BASE_TABLE_NAME_INCIDENTS = \\\"{BASE_TABLE_NAME_INCIDENTS}\\\"\n",
    "[DOC_AI]\n",
    "DOC_AI_PROCESSOR_URI = \\\"{DOC_AI_PROCESSOR_URI}\\\"\"\"\""
   ]
  },
  {
   "cell_type": "code",
   "execution_count": 5,
   "metadata": {},
   "outputs": [],
   "source": [
    "!echo '{config}' > '{config_path}'/config.toml"
   ]
  },
  {
   "cell_type": "code",
   "execution_count": null,
   "metadata": {},
   "outputs": [],
   "source": [
    "! gsutil mb -l {GOOGLE_CLOUD_LOCATION} gs://{GOOGLE_CLOUD_GCS_BUCKET}\n",
    "! gsutil mb -l {GOOGLE_CLOUD_LOCATION_MULTI_REGION} gs://{GOOGLE_CLOUD_GCS_BUCKET_MULTI_REGION}\n",
    "! bq --location={GOOGLE_CLOUD_LOCATION} mk --dataset {GOOGLE_CLOUD_BIGQUERY_PROJECT}:{GOOGLE_CLOUD_BIGQUERY_DATASET}\n",
    "! bq --location={GOOGLE_CLOUD_LOCATION_MULTI_REGION} mk --dataset {GOOGLE_CLOUD_BIGQUERY_PROJECT}:{GOOGLE_CLOUD_BIGQUERY_DATASET_MULTI_REGION}"
   ]
  },
  {
   "cell_type": "code",
   "execution_count": null,
   "metadata": {},
   "outputs": [],
   "source": [
    "! gcloud storage cp gs://telco-rca-lab-public/telco_rca_events.csv .\n",
    "! gcloud storage cp gs://telco-rca-lab-public/telco_rca_incidents.csv ."
   ]
  },
  {
   "cell_type": "code",
   "execution_count": null,
   "metadata": {},
   "outputs": [],
   "source": [
    "! bq --location={GOOGLE_CLOUD_LOCATION} load --autodetect --source_format=CSV {GOOGLE_CLOUD_BIGQUERY_DATASET}.{BASE_TABLE_NAME_EVENTS} telco_rca_events.csv\n",
    "! bq --location={GOOGLE_CLOUD_LOCATION} load --autodetect --field_delimiter='|' --source_format=CSV {GOOGLE_CLOUD_BIGQUERY_DATASET}.{BASE_TABLE_NAME_INCIDENTS} telco_rca_incidents.csv"
   ]
  },
  {
   "cell_type": "code",
   "execution_count": null,
   "metadata": {},
   "outputs": [],
   "source": [
    "!gcloud storage cp gs://telco-rca-lab-public/docs/*.pdf gs://{GOOGLE_CLOUD_GCS_BUCKET_MULTI_REGION}/rca/"
   ]
  },
  {
   "cell_type": "code",
   "execution_count": null,
   "metadata": {},
   "outputs": [],
   "source": [
    "! bq mk --connection --location={GOOGLE_CLOUD_LOCATION_MULTI_REGION} --project_id={GOOGLE_CLOUD_BIGQUERY_PROJECT} --connection_type=CLOUD_RESOURCE genai\n",
    "CONNECTION_SAS= !bq show --format=prettyjson --connection {GOOGLE_CLOUD_BIGQUERY_PROJECT}.{GOOGLE_CLOUD_LOCATION_MULTI_REGION}.genai | jq -r .\"cloudResource\".\"serviceAccountId\"\n",
    "CONNECTION_SA = CONNECTION_SAS[0]\n",
    "! gcloud projects add-iam-policy-binding '{PROJECT_NUM}' --member='serviceAccount:{CONNECTION_SA}' --role='roles/aiplatform.user' --condition=None\n",
    "! gcloud projects add-iam-policy-binding '{PROJECT_NUM}' --member='serviceAccount:{CONNECTION_SA}' --role='roles/documentai.viewer' --condition=None\n",
    "! gcloud projects add-iam-policy-binding '{PROJECT_NUM}' --member='serviceAccount:{CONNECTION_SA}' --role='roles/storage.objectViewer' --condition=None"
   ]
  }
 ],
 "metadata": {
  "kernelspec": {
   "display_name": "Python 3",
   "language": "python",
   "name": "python3"
  },
  "language_info": {
   "codemirror_mode": {
    "name": "ipython",
    "version": 3
   },
   "file_extension": ".py",
   "mimetype": "text/x-python",
   "name": "python",
   "nbconvert_exporter": "python",
   "pygments_lexer": "ipython3",
   "version": "3.10.14"
  }
 },
 "nbformat": 4,
 "nbformat_minor": 2
}
